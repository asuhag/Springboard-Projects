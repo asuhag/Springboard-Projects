{
 "cells": [
  {
   "cell_type": "markdown",
   "metadata": {},
   "source": [
    "# What is the True Normal Human Body Temperature? \n",
    "\n",
    "#### Background\n",
    "\n",
    "The mean normal body temperature was held to be 37$^{\\circ}$C or 98.6$^{\\circ}$F for more than 120 years since it was first conceptualized and reported by Carl Wunderlich in a famous 1868 book. But, is this value statistically correct?"
   ]
  },
  {
   "cell_type": "markdown",
   "metadata": {},
   "source": [
    "<h3>Exercises</h3>\n",
    "\n",
    "<p>In this exercise, you will analyze a dataset of human body temperatures and employ the concepts of hypothesis testing, confidence intervals, and statistical significance.</p>\n",
    "\n",
    "<p>Answer the following questions <b>in this notebook below and submit to your Github account</b>.</p> \n",
    "\n",
    "<ol>\n",
    "<li>  Is the distribution of body temperatures normal? \n",
    "    <ul>\n",
    "    <li> Although this is not a requirement for the Central Limit Theorem to hold (read the introduction on Wikipedia's page about the CLT carefully: https://en.wikipedia.org/wiki/Central_limit_theorem), it gives us some peace of mind that the population may also be normally distributed if we assume that this sample is representative of the population.\n",
    "    <li> Think about the way you're going to check for the normality of the distribution. Graphical methods are usually used first, but there are also other ways: https://en.wikipedia.org/wiki/Normality_test\n",
    "    </ul>\n",
    "<li>  Is the sample size large? Are the observations independent?\n",
    "    <ul>\n",
    "    <li> Remember that this is a condition for the Central Limit Theorem, and hence the statistical tests we are using, to apply.\n",
    "    </ul>\n",
    "<li>  Is the true population mean really 98.6 degrees F?\n",
    "    <ul>\n",
    "    <li> First, try a bootstrap hypothesis test.\n",
    "    <li> Now, let's try frequentist statistical testing. Would you use a one-sample or two-sample test? Why?\n",
    "    <li> In this situation, is it appropriate to use the $t$ or $z$ statistic? \n",
    "    <li> Now try using the other test. How is the result be different? Why?\n",
    "    </ul>\n",
    "<li>  Draw a small sample of size 10 from the data and repeat both frequentist tests. \n",
    "    <ul>\n",
    "    <li> Which one is the correct one to use? \n",
    "    <li> What do you notice? What does this tell you about the difference in application of the $t$ and $z$ statistic?\n",
    "    </ul>\n",
    "<li>  At what temperature should we consider someone's temperature to be \"abnormal\"?\n",
    "    <ul>\n",
    "    <li> As in the previous example, try calculating everything using the boostrap approach, as well as the frequentist approach.\n",
    "    <li> Start by computing the margin of error and confidence interval. When calculating the confidence interval, keep in mind that you should use the appropriate formula for one draw, and not N draws.\n",
    "    </ul>\n",
    "<li>  Is there a significant difference between males and females in normal temperature?\n",
    "    <ul>\n",
    "    <li> What testing approach did you use and why?\n",
    "    <li> Write a story with your conclusion in the context of the original problem.\n",
    "    </ul>\n",
    "</ol>\n",
    "\n",
    "You can include written notes in notebook cells using Markdown: \n",
    "   - In the control panel at the top, choose Cell > Cell Type > Markdown\n",
    "   - Markdown syntax: http://nestacms.com/docs/creating-content/markdown-cheat-sheet\n",
    "\n",
    "#### Resources\n",
    "\n",
    "+ Information and data sources: http://www.amstat.org/publications/jse/datasets/normtemp.txt, http://www.amstat.org/publications/jse/jse_data_archive.htm\n",
    "+ Markdown syntax: http://nestacms.com/docs/creating-content/markdown-cheat-sheet\n",
    "\n",
    "****"
   ]
  },
  {
   "cell_type": "markdown",
   "metadata": {},
   "source": [
    "### 1. Is the distribution Normal ?"
   ]
  },
  {
   "cell_type": "code",
   "execution_count": null,
   "metadata": {},
   "outputs": [],
   "source": [
    "import pandas as pd\n",
    "import matplotlib.pyplot as plt\n",
    "import seaborn as sns\n",
    "%matplotlib inline\n",
    "\n",
    "plt.style('ggplot')\n",
    "\n",
    "df = pd.read_csv('data/human_body_temperature.csv')"
   ]
  },
  {
   "cell_type": "code",
   "execution_count": 23,
   "metadata": {},
   "outputs": [
    {
     "data": {
      "text/plain": [
       "Text(0.5,1,'Histogram of Temperature')"
      ]
     },
     "execution_count": 23,
     "metadata": {},
     "output_type": "execute_result"
    },
    {
     "data": {
      "image/png": "[encoded data removed]",
      "text/plain": [
       "<matplotlib.figure.Figure at 0x11480f04438>"
      ]
     },
     "metadata": {},
     "output_type": "display_data"
    }
   ],
   "source": [
    "# Your work here.\n",
    "\n",
    "plt.hist(df['temperature'],bins=30)\n",
    "plt.xlabel('Temperature')\n",
    "plt.title('Histogram of Temperature')"
   ]
  },
  {
   "cell_type": "code",
   "execution_count": 17,
   "metadata": {},
   "outputs": [
    {
     "data": {
      "text/plain": [
       "((array([-2.55445479, -2.22902648, -2.0419783 , -1.90719589, -1.80015121,\n",
       "         -1.71047373, -1.63275826, -1.56381343, -1.50159038, -1.44469181,\n",
       "         -1.39212017, -1.3431372 , -1.29718048, -1.2538112 , -1.21268003,\n",
       "         -1.17350409, -1.13605091, -1.10012698, -1.06556939, -1.03223961,\n",
       "         -1.00001877, -0.96880405, -0.93850586, -0.90904562, -0.88035396,\n",
       "         -0.85236935, -0.82503685, -0.79830725, -0.77213622, -0.74648367,\n",
       "         -0.72131321, -0.69659166, -0.67228871, -0.64837651, -0.62482945,\n",
       "         -0.60162387, -0.57873784, -0.55615102, -0.53384444, -0.51180041,\n",
       "         -0.49000234, -0.46843466, -0.44708273, -0.42593273, -0.40497157,\n",
       "         -0.38418687, -0.36356684, -0.34310027, -0.32277642, -0.30258504,\n",
       "         -0.28251629, -0.2625607 , -0.24270913, -0.22295275, -0.20328303,\n",
       "         -0.18369165, -0.16417053, -0.14471177, -0.12530767, -0.10595063,\n",
       "         -0.08663321, -0.06734807, -0.04808795, -0.02884566, -0.00961403,\n",
       "          0.00961403,  0.02884566,  0.04808795,  0.06734807,  0.08663321,\n",
       "          0.10595063,  0.12530767,  0.14471177,  0.16417053,  0.18369165,\n",
       "          0.20328303,  0.22295275,  0.24270913,  0.2625607 ,  0.28251629,\n",
       "          0.30258504,  0.32277642,  0.34310027,  0.36356684,  0.38418687,\n",
       "          0.40497157,  0.42593273,  0.44708273,  0.46843466,  0.49000234,\n",
       "          0.51180041,  0.53384444,  0.55615102,  0.57873784,  0.60162387,\n",
       "          0.62482945,  0.64837651,  0.67228871,  0.69659166,  0.72131321,\n",
       "          0.74648367,  0.77213622,  0.79830725,  0.82503685,  0.85236935,\n",
       "          0.88035396,  0.90904562,  0.93850586,  0.96880405,  1.00001877,\n",
       "          1.03223961,  1.06556939,  1.10012698,  1.13605091,  1.17350409,\n",
       "          1.21268003,  1.2538112 ,  1.29718048,  1.3431372 ,  1.39212017,\n",
       "          1.44469181,  1.50159038,  1.56381343,  1.63275826,  1.71047373,\n",
       "          1.80015121,  1.90719589,  2.0419783 ,  2.22902648,  2.55445479]),\n",
       "  array([  96.3,   96.4,   96.7,   96.7,   96.8,   96.9,   97. ,   97.1,\n",
       "           97.1,   97.1,   97.2,   97.2,   97.2,   97.3,   97.4,   97.4,\n",
       "           97.4,   97.4,   97.4,   97.5,   97.5,   97.6,   97.6,   97.6,\n",
       "           97.6,   97.7,   97.7,   97.7,   97.8,   97.8,   97.8,   97.8,\n",
       "           97.8,   97.8,   97.8,   97.9,   97.9,   97.9,   97.9,   97.9,\n",
       "           98. ,   98. ,   98. ,   98. ,   98. ,   98. ,   98. ,   98. ,\n",
       "           98. ,   98. ,   98. ,   98.1,   98.1,   98.1,   98.2,   98.2,\n",
       "           98.2,   98.2,   98.2,   98.2,   98.2,   98.2,   98.2,   98.2,\n",
       "           98.3,   98.3,   98.3,   98.3,   98.3,   98.4,   98.4,   98.4,\n",
       "           98.4,   98.4,   98.4,   98.4,   98.4,   98.4,   98.5,   98.5,\n",
       "           98.5,   98.6,   98.6,   98.6,   98.6,   98.6,   98.6,   98.6,\n",
       "           98.6,   98.6,   98.6,   98.7,   98.7,   98.7,   98.7,   98.7,\n",
       "           98.7,   98.7,   98.7,   98.8,   98.8,   98.8,   98.8,   98.8,\n",
       "           98.8,   98.8,   98.8,   98.8,   98.8,   98.9,   98.9,   99. ,\n",
       "           99. ,   99. ,   99. ,   99. ,   99.1,   99.1,   99.1,   99.2,\n",
       "           99.2,   99.2,   99.3,   99.3,   99.4,   99.4,   99.5,   99.9,\n",
       "          100. ,  100.8])),\n",
       " (0.73603123655066405, 98.249230769230778, 0.99157200365856779))"
      ]
     },
     "execution_count": 17,
     "metadata": {},
     "output_type": "execute_result"
    },
    {
     "data": {
      "image/png": "[encoded data removed]",
      "text/plain": [
       "<matplotlib.figure.Figure at 0x114ff969240>"
      ]
     },
     "metadata": {},
     "output_type": "display_data"
    }
   ],
   "source": [
    "import scipy.stats as stats\n",
    "\n",
    "stats.probplot(df['temperature'],dist='norm',plot=plt)\n"
   ]
  },
  {
   "cell_type": "code",
   "execution_count": 25,
   "metadata": {},
   "outputs": [
    {
     "data": {
      "text/plain": [
       "NormaltestResult(statistic=2.7038014333192031, pvalue=0.2587479863488254)"
      ]
     },
     "execution_count": 25,
     "metadata": {},
     "output_type": "execute_result"
    }
   ],
   "source": [
    "from scipy.stats import normaltest\n",
    "\n",
    "normaltest(df['temperature'],nan_policy='omit')"
   ]
  },
  {
   "cell_type": "markdown",
   "metadata": {},
   "source": [
    "Normality test (k^2 + s^2) has a 0.258 p value, indicating that the null hypothesis is true. The test indicates the temperature data is normally distributed"
   ]
  },
  {
   "cell_type": "markdown",
   "metadata": {},
   "source": [
    "The histogram of temperature does not clearly indicate normality. The probability plot (qqplot) does suggest that temperature follows nromal distribution but not perfectly. Upon testing normality by D Agostino method, the normality of dataset is evident."
   ]
  },
  {
   "cell_type": "markdown",
   "metadata": {},
   "source": [
    "### 2. Is the true population mean 98.6 F"
   ]
  },
  {
   "cell_type": "code",
   "execution_count": 20,
   "metadata": {},
   "outputs": [
    {
     "name": "stdout",
     "output_type": "stream",
     "text": [
      "Total number of samples :130\n",
      "Mean of temperature :98.24923076923078\n",
      "Standard Deviation of temperature :0.7331831580389454\n"
     ]
    }
   ],
   "source": [
    "from statsmodels.stats.weightstats import ztest\n",
    "from scipy.stats import ttest_1samp\n",
    "\n",
    "print('Total number of samples :{}'.format(len(df['temperature'])))\n",
    "\n",
    "print('Mean of temperature :{}'.format(df['temperature'].mean()))\n",
    "\n",
    "print('Standard Deviation of temperature :{}'.format(df['temperature'].std()))\n",
    "\n"
   ]
  },
  {
   "cell_type": "markdown",
   "metadata": {},
   "source": [
    "#### Ho : Mean temperature is 98.6\n",
    "#### Ha : Mean temperature is not 98.6"
   ]
  },
  {
   "cell_type": "code",
   "execution_count": 21,
   "metadata": {},
   "outputs": [
    {
     "data": {
      "text/plain": [
       "(-5.4548232923645195, 4.9021570141012155e-08)"
      ]
     },
     "execution_count": 21,
     "metadata": {},
     "output_type": "execute_result"
    }
   ],
   "source": [
    "ztest(df['temperature'],value=98.6)"
   ]
  },
  {
   "cell_type": "code",
   "execution_count": 26,
   "metadata": {},
   "outputs": [
    {
     "data": {
      "text/plain": [
       "Ttest_1sampResult(statistic=-5.4548232923645195, pvalue=2.4106320415561276e-07)"
      ]
     },
     "execution_count": 26,
     "metadata": {},
     "output_type": "execute_result"
    }
   ],
   "source": [
    "ttest_1samp(df['temperature'],98.6)"
   ]
  },
  {
   "cell_type": "markdown",
   "metadata": {},
   "source": [
    "#### The p values of the z-test and the t-test clearly demand rejection of the null hypothesis. Therefore, mean temperature is not 98.6"
   ]
  },
  {
   "cell_type": "markdown",
   "metadata": {},
   "source": [
    "### What is considered \" Abnormal Temperature\""
   ]
  },
  {
   "cell_type": "code",
   "execution_count": 29,
   "metadata": {},
   "outputs": [
    {
     "name": "stdout",
     "output_type": "stream",
     "text": [
      " Temperature interval with 95% confidence [98.12319411222852, 98.37526742623304] :\n",
      " Temperature interval with 99% confidence [98.08358259145638, 98.41487894700518] :\n"
     ]
    }
   ],
   "source": [
    "# 95% confidence interval\n",
    "\n",
    "m = df['temperature'].mean()\n",
    "sig = df['temperature'].std()\n",
    "n = len(df['temperature'])\n",
    "\n",
    "temp_95_con = [m - 1.96*(sig/(n**0.5)),m + 1.96*(sig/(n**0.5)) ]\n",
    "temp_99_con = [m - 2.576*(sig/(n**0.5)),m + 2.576*(sig/(n**0.5)) ]\n",
    "\n",
    "print(\" Temperature interval with 95% confidence {} :\".format(temp_95_con))\n",
    "print(\" Temperature interval with 99% confidence {} :\".format(temp_99_con))\n"
   ]
  },
  {
   "cell_type": "markdown",
   "metadata": {},
   "source": [
    "### Significant difference in normal temperature for the two genders ?\n",
    "\n",
    "##### Ho : There is no significant difference between the avg temperature of males and average temperature of females.\n",
    "##### Ha : The avg temperatures of males and females is not the same."
   ]
  },
  {
   "cell_type": "code",
   "execution_count": 32,
   "metadata": {},
   "outputs": [],
   "source": [
    "temp_m = df['temperature'][df.gender=='M']\n",
    "temp_f = df['temperature'][df.gender=='F']\n"
   ]
  },
  {
   "cell_type": "code",
   "execution_count": 34,
   "metadata": {},
   "outputs": [
    {
     "name": "stdout",
     "output_type": "stream",
     "text": [
      "Average temperature observed in males 98.1046153846154\n",
      "Average temperature observed in females 98.39384615384613\n"
     ]
    },
    {
     "data": {
      "image/png": "[encoded data removed]",
      "text/plain": [
       "<matplotlib.figure.Figure at 0x1148046b630>"
      ]
     },
     "metadata": {},
     "output_type": "display_data"
    }
   ],
   "source": [
    "plt.subplot(1,2,1)\n",
    "plt.hist(temp_m)\n",
    "plt.xlabel('Temperature Males')\n",
    "\n",
    "plt.subplot(1,2,2)\n",
    "plt.hist(temp_f)\n",
    "plt.xlabel('Temperature Females')\n",
    "\n",
    "print('Average temperature observed in males {}'.format(temp_m.mean()))\n",
    "print('Average temperature observed in females {}'.format(temp_f.mean()))\n"
   ]
  },
  {
   "cell_type": "code",
   "execution_count": 36,
   "metadata": {},
   "outputs": [
    {
     "data": {
      "text/plain": [
       "Ttest_indResult(statistic=-2.2854345381656103, pvalue=0.023931883122395609)"
      ]
     },
     "execution_count": 36,
     "metadata": {},
     "output_type": "execute_result"
    }
   ],
   "source": [
    "from scipy.stats import ttest_ind\n",
    "\n",
    "ttest_ind(temp_m,temp_f)"
   ]
  },
  {
   "cell_type": "markdown",
   "metadata": {},
   "source": [
    "Looking at the p value of t-test, the null hypothesis is not true and therefore it has to be rejected."
   ]
  },
  {
   "cell_type": "code",
   "execution_count": null,
   "metadata": {
    "collapsed": true
   },
   "outputs": [],
   "source": []
  }
 ],
 "metadata": {
  "kernelspec": {
   "display_name": "Python 3",
   "language": "python",
   "name": "python3"
  },
  "language_info": {
   "codemirror_mode": {
    "name": "ipython",
    "version": 3
   },
   "file_extension": ".py",
   "mimetype": "text/x-python",
   "name": "python",
   "nbconvert_exporter": "python",
   "pygments_lexer": "ipython3",
   "version": "3.6.3"
  }
 },
 "nbformat": 4,
 "nbformat_minor": 1
}

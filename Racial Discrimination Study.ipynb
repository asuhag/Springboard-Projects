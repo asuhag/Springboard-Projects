{
 "cells": [
  {
   "cell_type": "markdown",
   "metadata": {},
   "source": [
    "# Examining Racial Discrimination in the US Job Market\n",
    "\n",
    "### Background\n",
    "Racial discrimination continues to be pervasive in cultures throughout the world. Researchers examined the level of racial discrimination in the United States labor market by randomly assigning identical résumés to black-sounding or white-sounding names and observing the impact on requests for interviews from employers.\n",
    "\n",
    "### Data\n",
    "In the dataset provided, each row represents a resume. The 'race' column has two values, 'b' and 'w', indicating black-sounding and white-sounding. The column 'call' has two values, 1 and 0, indicating whether the resume received a call from employers or not.\n",
    "\n",
    "Note that the 'b' and 'w' values in race are assigned randomly to the resumes when presented to the employer."
   ]
  },
  {
   "cell_type": "markdown",
   "metadata": {},
   "source": [
    "<div class=\"span5 alert alert-info\">\n",
    "### Exercises\n",
    "You will perform a statistical analysis to establish whether race has a significant impact on the rate of callbacks for resumes.\n",
    "\n",
    "Answer the following questions **in this notebook below and submit to your Github account**. \n",
    "\n",
    "   1. What test is appropriate for this problem? Does CLT apply?\n",
    "   2. What are the null and alternate hypotheses?\n",
    "   3. Compute margin of error, confidence interval, and p-value. Try using both the bootstrapping and the frequentist statistical approaches.\n",
    "   4. Write a story describing the statistical significance in the context or the original problem.\n",
    "   5. Does your analysis mean that race/name is the most important factor in callback success? Why or why not? If not, how would you amend your analysis?\n",
    "\n",
    "You can include written notes in notebook cells using Markdown: \n",
    "   - In the control panel at the top, choose Cell > Cell Type > Markdown\n",
    "   - Markdown syntax: http://nestacms.com/docs/creating-content/markdown-cheat-sheet\n",
    "\n",
    "\n",
    "#### Resources\n",
    "+ Experiment information and data source: http://www.povertyactionlab.org/evaluation/discrimination-job-market-united-states\n",
    "+ Scipy statistical methods: http://docs.scipy.org/doc/scipy/reference/stats.html \n",
    "+ Markdown syntax: http://nestacms.com/docs/creating-content/markdown-cheat-sheet\n",
    "+ Formulas for the Bernoulli distribution: https://en.wikipedia.org/wiki/Bernoulli_distribution\n",
    "</div>\n",
    "****"
   ]
  },
  {
   "cell_type": "code",
   "execution_count": 1,
   "metadata": {
    "collapsed": true
   },
   "outputs": [],
   "source": [
    "import pandas as pd\n",
    "import numpy as np\n",
    "from scipy import stats\n",
    "\n",
    "import matplotlib.pyplot as plt\n",
    "\n",
    "% matplotlib inline"
   ]
  },
  {
   "cell_type": "code",
   "execution_count": 2,
   "metadata": {
    "collapsed": true
   },
   "outputs": [],
   "source": [
    "data = pd.io.stata.read_stata('data/us_job_market_discrimination.dta')"
   ]
  },
  {
   "cell_type": "markdown",
   "metadata": {},
   "source": [
    "## 1. What test is appropriate for this problem? Does CLT apply?"
   ]
  },
  {
   "cell_type": "markdown",
   "metadata": {},
   "source": [
    "##### Note : The resume for both black and white sounding names are identical and ,as the data description suggests, the names were randomly assigned to the resume. This qualifies the \" Randomization\" requirement of the Central Limit Theorem."
   ]
  },
  {
   "cell_type": "code",
   "execution_count": 3,
   "metadata": {},
   "outputs": [
    {
     "data": {
      "text/html": [
       "<div>\n",
       "<style scoped>\n",
       "    .dataframe tbody tr th:only-of-type {\n",
       "        vertical-align: middle;\n",
       "    }\n",
       "\n",
       "    .dataframe tbody tr th {\n",
       "        vertical-align: top;\n",
       "    }\n",
       "\n",
       "    .dataframe thead th {\n",
       "        text-align: right;\n",
       "    }\n",
       "</style>\n",
       "<table border=\"1\" class=\"dataframe\">\n",
       "  <thead>\n",
       "    <tr style=\"text-align: right;\">\n",
       "      <th></th>\n",
       "      <th>id</th>\n",
       "      <th>ad</th>\n",
       "      <th>education</th>\n",
       "      <th>ofjobs</th>\n",
       "      <th>yearsexp</th>\n",
       "      <th>honors</th>\n",
       "      <th>volunteer</th>\n",
       "      <th>military</th>\n",
       "      <th>empholes</th>\n",
       "      <th>occupspecific</th>\n",
       "      <th>...</th>\n",
       "      <th>compreq</th>\n",
       "      <th>orgreq</th>\n",
       "      <th>manuf</th>\n",
       "      <th>transcom</th>\n",
       "      <th>bankreal</th>\n",
       "      <th>trade</th>\n",
       "      <th>busservice</th>\n",
       "      <th>othservice</th>\n",
       "      <th>missind</th>\n",
       "      <th>ownership</th>\n",
       "    </tr>\n",
       "  </thead>\n",
       "  <tbody>\n",
       "    <tr>\n",
       "      <th>0</th>\n",
       "      <td>b</td>\n",
       "      <td>1</td>\n",
       "      <td>4</td>\n",
       "      <td>2</td>\n",
       "      <td>6</td>\n",
       "      <td>0</td>\n",
       "      <td>0</td>\n",
       "      <td>0</td>\n",
       "      <td>1</td>\n",
       "      <td>17</td>\n",
       "      <td>...</td>\n",
       "      <td>1.0</td>\n",
       "      <td>0.0</td>\n",
       "      <td>1.0</td>\n",
       "      <td>0.0</td>\n",
       "      <td>0.0</td>\n",
       "      <td>0.0</td>\n",
       "      <td>0.0</td>\n",
       "      <td>0.0</td>\n",
       "      <td>0.0</td>\n",
       "      <td></td>\n",
       "    </tr>\n",
       "    <tr>\n",
       "      <th>1</th>\n",
       "      <td>b</td>\n",
       "      <td>1</td>\n",
       "      <td>3</td>\n",
       "      <td>3</td>\n",
       "      <td>6</td>\n",
       "      <td>0</td>\n",
       "      <td>1</td>\n",
       "      <td>1</td>\n",
       "      <td>0</td>\n",
       "      <td>316</td>\n",
       "      <td>...</td>\n",
       "      <td>1.0</td>\n",
       "      <td>0.0</td>\n",
       "      <td>1.0</td>\n",
       "      <td>0.0</td>\n",
       "      <td>0.0</td>\n",
       "      <td>0.0</td>\n",
       "      <td>0.0</td>\n",
       "      <td>0.0</td>\n",
       "      <td>0.0</td>\n",
       "      <td></td>\n",
       "    </tr>\n",
       "    <tr>\n",
       "      <th>2</th>\n",
       "      <td>b</td>\n",
       "      <td>1</td>\n",
       "      <td>4</td>\n",
       "      <td>1</td>\n",
       "      <td>6</td>\n",
       "      <td>0</td>\n",
       "      <td>0</td>\n",
       "      <td>0</td>\n",
       "      <td>0</td>\n",
       "      <td>19</td>\n",
       "      <td>...</td>\n",
       "      <td>1.0</td>\n",
       "      <td>0.0</td>\n",
       "      <td>1.0</td>\n",
       "      <td>0.0</td>\n",
       "      <td>0.0</td>\n",
       "      <td>0.0</td>\n",
       "      <td>0.0</td>\n",
       "      <td>0.0</td>\n",
       "      <td>0.0</td>\n",
       "      <td></td>\n",
       "    </tr>\n",
       "    <tr>\n",
       "      <th>3</th>\n",
       "      <td>b</td>\n",
       "      <td>1</td>\n",
       "      <td>3</td>\n",
       "      <td>4</td>\n",
       "      <td>6</td>\n",
       "      <td>0</td>\n",
       "      <td>1</td>\n",
       "      <td>0</td>\n",
       "      <td>1</td>\n",
       "      <td>313</td>\n",
       "      <td>...</td>\n",
       "      <td>1.0</td>\n",
       "      <td>0.0</td>\n",
       "      <td>1.0</td>\n",
       "      <td>0.0</td>\n",
       "      <td>0.0</td>\n",
       "      <td>0.0</td>\n",
       "      <td>0.0</td>\n",
       "      <td>0.0</td>\n",
       "      <td>0.0</td>\n",
       "      <td></td>\n",
       "    </tr>\n",
       "    <tr>\n",
       "      <th>4</th>\n",
       "      <td>b</td>\n",
       "      <td>1</td>\n",
       "      <td>3</td>\n",
       "      <td>3</td>\n",
       "      <td>22</td>\n",
       "      <td>0</td>\n",
       "      <td>0</td>\n",
       "      <td>0</td>\n",
       "      <td>0</td>\n",
       "      <td>313</td>\n",
       "      <td>...</td>\n",
       "      <td>1.0</td>\n",
       "      <td>1.0</td>\n",
       "      <td>0.0</td>\n",
       "      <td>0.0</td>\n",
       "      <td>0.0</td>\n",
       "      <td>0.0</td>\n",
       "      <td>0.0</td>\n",
       "      <td>1.0</td>\n",
       "      <td>0.0</td>\n",
       "      <td>Nonprofit</td>\n",
       "    </tr>\n",
       "  </tbody>\n",
       "</table>\n",
       "<p>5 rows × 65 columns</p>\n",
       "</div>"
      ],
      "text/plain": [
       "  id ad  education  ofjobs  yearsexp  honors  volunteer  military  empholes  \\\n",
       "0  b  1          4       2         6       0          0         0         1   \n",
       "1  b  1          3       3         6       0          1         1         0   \n",
       "2  b  1          4       1         6       0          0         0         0   \n",
       "3  b  1          3       4         6       0          1         0         1   \n",
       "4  b  1          3       3        22       0          0         0         0   \n",
       "\n",
       "   occupspecific    ...      compreq  orgreq  manuf  transcom  bankreal trade  \\\n",
       "0             17    ...          1.0     0.0    1.0       0.0       0.0   0.0   \n",
       "1            316    ...          1.0     0.0    1.0       0.0       0.0   0.0   \n",
       "2             19    ...          1.0     0.0    1.0       0.0       0.0   0.0   \n",
       "3            313    ...          1.0     0.0    1.0       0.0       0.0   0.0   \n",
       "4            313    ...          1.0     1.0    0.0       0.0       0.0   0.0   \n",
       "\n",
       "  busservice othservice  missind  ownership  \n",
       "0        0.0        0.0      0.0             \n",
       "1        0.0        0.0      0.0             \n",
       "2        0.0        0.0      0.0             \n",
       "3        0.0        0.0      0.0             \n",
       "4        0.0        1.0      0.0  Nonprofit  \n",
       "\n",
       "[5 rows x 65 columns]"
      ]
     },
     "execution_count": 3,
     "metadata": {},
     "output_type": "execute_result"
    }
   ],
   "source": [
    "# Display first 5 elements of the dataframe, data\n",
    "\n",
    "data.head()"
   ]
  },
  {
   "cell_type": "code",
   "execution_count": 4,
   "metadata": {},
   "outputs": [
    {
     "data": {
      "text/plain": [
       "Index(['id', 'ad', 'education', 'ofjobs', 'yearsexp', 'honors', 'volunteer',\n",
       "       'military', 'empholes', 'occupspecific', 'occupbroad', 'workinschool',\n",
       "       'email', 'computerskills', 'specialskills', 'firstname', 'sex', 'race',\n",
       "       'h', 'l', 'call', 'city', 'kind', 'adid', 'fracblack', 'fracwhite',\n",
       "       'lmedhhinc', 'fracdropout', 'fraccolp', 'linc', 'col', 'expminreq',\n",
       "       'schoolreq', 'eoe', 'parent_sales', 'parent_emp', 'branch_sales',\n",
       "       'branch_emp', 'fed', 'fracblack_empzip', 'fracwhite_empzip',\n",
       "       'lmedhhinc_empzip', 'fracdropout_empzip', 'fraccolp_empzip',\n",
       "       'linc_empzip', 'manager', 'supervisor', 'secretary', 'offsupport',\n",
       "       'salesrep', 'retailsales', 'req', 'expreq', 'comreq', 'educreq',\n",
       "       'compreq', 'orgreq', 'manuf', 'transcom', 'bankreal', 'trade',\n",
       "       'busservice', 'othservice', 'missind', 'ownership'],\n",
       "      dtype='object')"
      ]
     },
     "execution_count": 4,
     "metadata": {},
     "output_type": "execute_result"
    }
   ],
   "source": [
    "# Identifying column names of the dataframe, data\n",
    "\n",
    "data.columns"
   ]
  },
  {
   "cell_type": "code",
   "execution_count": 5,
   "metadata": {},
   "outputs": [
    {
     "name": "stdout",
     "output_type": "stream",
     "text": [
      "Number of observations where name is black-sounding : 2435  \n",
      "Number of observations where name is white-sounding : 2435  \n"
     ]
    }
   ],
   "source": [
    "# Separating the dataframe into black and white sounding names to explore dataset\n",
    "\n",
    "data_b = data[data.race=='b']\n",
    "data_w = data[data.race=='w']\n",
    "num_b = len(data_b)\n",
    "num_w = len(data_w)\n",
    "\n",
    "print(\"Number of observations where name is black-sounding : {}  \" .format(num_b))\n",
    "print(\"Number of observations where name is white-sounding : {}  \".format(num_w))\n"
   ]
  },
  {
   "cell_type": "markdown",
   "metadata": {},
   "source": [
    "##### Note : The number of observations ie. samples in the dataset are much smaller than the true black and white population, globally. This satisfies the \"10% Rule\" of CLT conditions "
   ]
  },
  {
   "cell_type": "code",
   "execution_count": 6,
   "metadata": {},
   "outputs": [
    {
     "name": "stdout",
     "output_type": "stream",
     "text": [
      "Number of black sounding names that got a callback : 157  \n",
      "Number of white sounding names that got a callback : 235\n"
     ]
    }
   ],
   "source": [
    "# Number of call backs for both black and white sounding names\n",
    "\n",
    "b_success = len(data_b[data_b.call == 1])\n",
    "w_success = len(data_w[data_w.call == 1])\n",
    "\n",
    "print(\"Number of black sounding names that got a callback :\",b_success, \" \\nNumber of white sounding names that got a callback :\",w_success)"
   ]
  },
  {
   "cell_type": "code",
   "execution_count": 7,
   "metadata": {},
   "outputs": [
    {
     "name": "stdout",
     "output_type": "stream",
     "text": [
      "Fraction of black sounding names getting a callback :  0.06447638603696099\n",
      "Fraction of white sounding names getting a callback :  0.09650924024640657\n"
     ]
    }
   ],
   "source": [
    "# Fraction of successful call backs for both black and white sounding names\n",
    "\n",
    "p_b =  b_success/num_b\n",
    "p_w =  w_success/num_w\n",
    "\n",
    "print(\"Fraction of black sounding names getting a callback : \",p_b)\n",
    "print(\"Fraction of white sounding names getting a callback : \",p_w)"
   ]
  },
  {
   "cell_type": "code",
   "execution_count": 8,
   "metadata": {},
   "outputs": [
    {
     "name": "stdout",
     "output_type": "stream",
     "text": [
      "157.0\n",
      "2278.0\n",
      "---\n",
      "235.0\n",
      "2200.0\n"
     ]
    }
   ],
   "source": [
    "# Evaluating applicability of Central Limit Theorem ie np>=10 and nq>=10\n",
    "\n",
    "print(num_b * p_b)\n",
    "print(num_b * (1-p_b))\n",
    "print(\"---\")\n",
    "print(num_b * p_w)\n",
    "print(num_b * (1-p_w))"
   ]
  },
  {
   "cell_type": "markdown",
   "metadata": {},
   "source": [
    "##### Note : The sample size is large enough, as indicated by the results above. This test approved validity of Central Limit Theorem"
   ]
  },
  {
   "cell_type": "markdown",
   "metadata": {},
   "source": [
    " \n",
    "### Central Limit Theorem is applicable because the following conditions are met :\n",
    "\n",
    "1. Samples are random and independent\n",
    "2. The sample size is less than 10% of the entire population\n",
    "3. Sample size is large enough such that np >=10 and nq >= 10\n",
    "\n",
    "### Appropriate Test Selection :\n",
    "\n",
    "The population SD is not known. Two sample t test is appropriate to test the difference in response. \n",
    "  "
   ]
  },
  {
   "cell_type": "markdown",
   "metadata": {},
   "source": [
    "## 2. What are the null and alternate hypotheses?"
   ]
  },
  {
   "cell_type": "markdown",
   "metadata": {},
   "source": [
    "#### Ho : Average positive call back for the black sounding names = Average positive call back for the white sounding names\n",
    "\n",
    "#### Ha : Average positive call back for the black sounding names is different from that for the white sounding names"
   ]
  },
  {
   "cell_type": "code",
   "execution_count": 9,
   "metadata": {},
   "outputs": [
    {
     "name": "stdout",
     "output_type": "stream",
     "text": [
      " p value : 3.94294151365e-05\n",
      " Test statistic : -4.11470529086\n"
     ]
    }
   ],
   "source": [
    "# Performing two sample t test to evaluate p_value\n",
    "\n",
    "from scipy.stats import ttest_ind\n",
    "\n",
    "stat,p_value = ttest_ind(data[data.race=='b']['call'],data[data.race=='w']['call'],equal_var=False)\n",
    "\n",
    "print(\" p value :\", p_value)\n",
    "print(\" Test statistic :\", stat)"
   ]
  },
  {
   "cell_type": "code",
   "execution_count": 66,
   "metadata": {},
   "outputs": [
    {
     "name": "stdout",
     "output_type": "stream",
     "text": [
      " p value (bootstrap method) : 0.0\n",
      " p value (t test) : 3.94294151365e-05\n"
     ]
    }
   ],
   "source": [
    "# Calls separated by name types - black and white sounding\n",
    "\n",
    "data_b_call = data_b.call\n",
    "data_w_call = data_w.call\n",
    "\n",
    "# Defining a function to evaluate test statistic\n",
    "\n",
    "def diff_of_means(data1,data2):\n",
    "    \n",
    "    return (np.mean(data1)-np.mean(data2))\n",
    "\n",
    "# Test statistic for the actual data\n",
    "\n",
    "obs_test_Stat = diff_of_means(data_w_call,data_b_call)\n",
    "\n",
    "# Function to generate permutation replicates\n",
    "\n",
    "def draw_perm_replicates(data1,data2,func,size=1):\n",
    "    \n",
    "    perm_replicates = np.empty(size)\n",
    "\n",
    "    for i in range(size):\n",
    "        perm_sample = np.random.permutation(np.concatenate((data1,data2)))\n",
    "        perm_sample_data1 = perm_sample[:len(data1)]\n",
    "        perm_sample_data2 = perm_sample[len(data1):]\n",
    "        \n",
    "        # Test statistic\n",
    "        perm_replicates[i] = func(perm_sample_data1,perm_sample_data2)\n",
    "        \n",
    "    return perm_replicates\n",
    "\n",
    "# Generating 10,000 permutation replicates\n",
    "\n",
    "perm_replicates = draw_perm_replicates(data_w_call,data_b_call,diff_of_means,10000)\n",
    "\n",
    "# p value\n",
    "p_val = np.sum(perm_replicates >= obs_test_Stat) / len(perm_replicates)\n",
    "\n",
    "print(\" p value (bootstrap method) :\", p_val)\n",
    "\n",
    "print(\" p value (t test) :\", p_value)"
   ]
  },
  {
   "cell_type": "markdown",
   "metadata": {},
   "source": [
    "##### Note :The p value is extremely small and sufficient to reject the null hypothesis"
   ]
  },
  {
   "cell_type": "markdown",
   "metadata": {},
   "source": [
    "## 3. Margin of Error, Confidence Interval and p_value ?"
   ]
  },
  {
   "cell_type": "code",
   "execution_count": 10,
   "metadata": {},
   "outputs": [
    {
     "name": "stdout",
     "output_type": "stream",
     "text": [
      " Margin of Error : 0.015255284385449893\n"
     ]
    }
   ],
   "source": [
    "# Reference : http://www.webassign.net/idcollabstat2/Chapter10.pdf\n",
    "\n",
    "# Assume 95% confidence level\n",
    "\n",
    "# Calculating Margin of error\n",
    "\n",
    "SD_1 = np.std(data[data.race=='b']['call'])\n",
    "SD_2 = np.std(data[data.race=='w']['call'])\n",
    "n1 = len(data[data.race=='b'])\n",
    "n2 = len(data[data.race=='w'])\n",
    "\n",
    "std_error_of_difference = ((SD_1**2/n1) + (SD_2**2/n2))**0.5\n",
    "degree_of_freedom = (((SD_1**2/n1) + (SD_2**2/n2))**2) /((1/(n1-1))*(((SD_1**2/n1))**2) + (1/(n2-1))*(((SD_2**2/n2))**2))\n",
    "\n",
    "# critical t value selected from t-Tables (Ref : https://faculty.washington.edu/heagerty/Books/Biostatistics/TABLES/t-Tables/) \n",
    "t_c = 1.96\n",
    "\n",
    "moe = t_c * std_error_of_difference\n",
    "\n",
    "print(\" Margin of Error :\", moe)"
   ]
  },
  {
   "cell_type": "code",
   "execution_count": 11,
   "metadata": {},
   "outputs": [
    {
     "name": "stdout",
     "output_type": "stream",
     "text": [
      " Confidence interval : [-0.04728813924051047, -0.016777570469610682]\n"
     ]
    }
   ],
   "source": [
    "# Confidence interval\n",
    "\n",
    "mean_X1 = np.mean(data[data.race=='b']['call'])\n",
    "mean_X2 = np.mean(data[data.race=='w']['call'])\n",
    "\n",
    "lower = mean_X1 - mean_X2 - moe\n",
    "upper = mean_X1 - mean_X2 + moe\n",
    "\n",
    "print(\" Confidence interval :\", [lower,upper])\n"
   ]
  },
  {
   "cell_type": "markdown",
   "metadata": {},
   "source": [
    "## 4. Write a story describe the statistical significance in the context of the original problem"
   ]
  },
  {
   "cell_type": "markdown",
   "metadata": {},
   "source": [
    "The p-value is 3.9e-05, so we can reject the null hypothesis, which means we can say with confidence that people with black sounding names have the less chance of being called back as the people with white sounding names."
   ]
  },
  {
   "cell_type": "markdown",
   "metadata": {},
   "source": [
    "## 5. Does your analysis mean that race/name is the most important factor in callback success? Why or why not? If not, how would you amend your analysis?"
   ]
  },
  {
   "cell_type": "markdown",
   "metadata": {},
   "source": [
    "No, the analysis does not suggest that race/name is the most important factor in callback success. It merely proves that race/name is one of many other factors that influence callback success. In order to determine the most important factor that affects callback success, all possible factors must be analyzed and ranked to test which feature is the most strongly related to callback."
   ]
  }
 ],
 "metadata": {
  "kernelspec": {
   "display_name": "Python 3",
   "language": "python",
   "name": "python3"
  },
  "language_info": {
   "codemirror_mode": {
    "name": "ipython",
    "version": 3
   },
   "file_extension": ".py",
   "mimetype": "text/x-python",
   "name": "python",
   "nbconvert_exporter": "python",
   "pygments_lexer": "ipython3",
   "version": "3.6.3"
  }
 },
 "nbformat": 4,
 "nbformat_minor": 2
}
